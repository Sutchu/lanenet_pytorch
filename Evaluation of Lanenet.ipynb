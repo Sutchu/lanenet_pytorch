{
 "cells": [
  {
   "cell_type": "code",
   "execution_count": 1,
   "metadata": {},
   "outputs": [],
   "source": [
    "import json\n",
    "import os.path as ops\n",
    "import numpy as np\n",
    "import torch\n",
    "import cv2\n",
    "import time\n",
    "import os\n",
    "import matplotlib.pylab as plt\n",
    "import sys\n",
    "from tqdm import tqdm\n",
    "sys.path.append('..')\n",
    "from dataset.dataset_utils import TUSIMPLE\n",
    "from Lanenet.model2 import Lanenet\n",
    "from utils.evaluation import gray_to_rgb_emb, process_instance_embedding, video_to_clips"
   ]
  },
  {
   "cell_type": "markdown",
   "metadata": {},
   "source": [
    "# Load the Model"
   ]
  },
  {
   "cell_type": "code",
   "execution_count": 2,
   "metadata": {},
   "outputs": [
    {
     "name": "stdout",
     "output_type": "stream",
     "text": [
      "success\n"
     ]
    }
   ],
   "source": [
    "model_path = './TUSIMPLE/Lanenet_output/lanenet_epoch_22_batch_8.model'\n",
    "device = torch.device('cuda') if torch.cuda.is_available() else torch.device('cpu')\n",
    "LaneNet_model = Lanenet(2, 4)\n",
    "LaneNet_model.load_state_dict(torch.load(model_path))\n",
    "LaneNet_model.to(device)\n",
    "print('success')"
   ]
  },
  {
   "cell_type": "markdown",
   "metadata": {},
   "source": [
    "# Load the Test Dataset"
   ]
  },
  {
   "cell_type": "markdown",
   "metadata": {},
   "source": [
    "Test use TUSIMPLE test dataset ``clips`` and ``test_label.json`` and write the predit result in ``test_tasks_0627.json`` use the evaluation from TUSIMPLE dataset in ``utils/lane.py``"
   ]
  },
  {
   "cell_type": "markdown",
   "metadata": {},
   "source": [
    "write lanes and run_time to ``pred_result.json``"
   ]
  },
  {
   "cell_type": "code",
   "execution_count": 5,
   "metadata": {},
   "outputs": [],
   "source": [
    "pred_json_path = './TUSIMPLE/train_set/labels/train_labels0.json'\n",
    "json_pred = [json.loads(line) for line in open(pred_json_path).readlines()]"
   ]
  },
  {
   "cell_type": "code",
   "execution_count": 6,
   "metadata": {
    "scrolled": false
   },
   "outputs": [
    {
     "name": "stderr",
     "output_type": "stream",
     "text": [
      "  0%|          | 0/50 [00:00<?, ?it/s]\n"
     ]
    },
    {
     "ename": "KeyError",
     "evalue": "'run_time'",
     "output_type": "error",
     "traceback": [
      "\u001B[0;31m---------------------------------------------------------------------------\u001B[0m",
      "\u001B[0;31mKeyError\u001B[0m                                  Traceback (most recent call last)",
      "\u001B[0;32m<ipython-input-6-3dc6219167dd>\u001B[0m in \u001B[0;36m<module>\u001B[0;34m\u001B[0m\n\u001B[1;32m      4\u001B[0m     \u001B[0mh_samples\u001B[0m \u001B[0;34m=\u001B[0m \u001B[0msample\u001B[0m\u001B[0;34m[\u001B[0m\u001B[0;34m'h_samples'\u001B[0m\u001B[0;34m]\u001B[0m\u001B[0;34m\u001B[0m\u001B[0;34m\u001B[0m\u001B[0m\n\u001B[1;32m      5\u001B[0m     \u001B[0mlanes\u001B[0m \u001B[0;34m=\u001B[0m \u001B[0msample\u001B[0m\u001B[0;34m[\u001B[0m\u001B[0;34m'lanes'\u001B[0m\u001B[0;34m]\u001B[0m\u001B[0;34m\u001B[0m\u001B[0;34m\u001B[0m\u001B[0m\n\u001B[0;32m----> 6\u001B[0;31m     \u001B[0mrun_time\u001B[0m \u001B[0;34m=\u001B[0m \u001B[0msample\u001B[0m\u001B[0;34m[\u001B[0m\u001B[0;34m'run_time'\u001B[0m\u001B[0;34m]\u001B[0m\u001B[0;34m\u001B[0m\u001B[0;34m\u001B[0m\u001B[0m\n\u001B[0m\u001B[1;32m      7\u001B[0m     \u001B[0mraw_file\u001B[0m \u001B[0;34m=\u001B[0m \u001B[0msample\u001B[0m\u001B[0;34m[\u001B[0m\u001B[0;34m'raw_file'\u001B[0m\u001B[0;34m]\u001B[0m\u001B[0;34m\u001B[0m\u001B[0;34m\u001B[0m\u001B[0m\n\u001B[1;32m      8\u001B[0m     \u001B[0mimg_path\u001B[0m \u001B[0;34m=\u001B[0m \u001B[0mops\u001B[0m\u001B[0;34m.\u001B[0m\u001B[0mjoin\u001B[0m\u001B[0;34m(\u001B[0m\u001B[0;34m'./TUSIMPLE/train_set'\u001B[0m\u001B[0;34m,\u001B[0m \u001B[0mraw_file\u001B[0m\u001B[0;34m)\u001B[0m\u001B[0;34m\u001B[0m\u001B[0;34m\u001B[0m\u001B[0m\n",
      "\u001B[0;31mKeyError\u001B[0m: 'run_time'"
     ]
    }
   ],
   "source": [
    "all_time_forward = []\n",
    "all_time_clustering = []\n",
    "for i, sample in enumerate(tqdm(json_pred)):\n",
    "    h_samples = sample['h_samples']\n",
    "    lanes = sample['lanes']\n",
    "    run_time = 1000\n",
    "    raw_file = sample['raw_file']\n",
    "    img_path = ops.join('./TUSIMPLE/train_set', raw_file)\n",
    "    # read the image\n",
    "    gt_img_org = cv2.imread(img_path, cv2.IMREAD_UNCHANGED)\n",
    "    org_shape = gt_img_org.shape\n",
    "    gt_image = cv2.resize(gt_img_org, dsize=(512, 256), interpolation=cv2.INTER_LINEAR)\n",
    "    gt_image = gt_image / 127.5 - 1.0\n",
    "    gt_image = torch.tensor(gt_image, dtype=torch.float)\n",
    "    gt_image = np.transpose(gt_image, (2, 0, 1))\n",
    "    # Go through the network\n",
    "    time_start=time.time()\n",
    "    binary_final_logits, instance_embedding = LaneNet_model(gt_image.unsqueeze(0).cuda())\n",
    "    # binary_final_logits = binary_final_logits.cpu()\n",
    "    # instance_embedding = instance_embedding.cpu()\n",
    "    time_end=time.time()\n",
    "    # Get the final embedding image\n",
    "    binary_img = torch.argmax(binary_final_logits, dim=1).squeeze().cpu().numpy()\n",
    "    binary_img[0:50,:] = 0\n",
    "    clu_start = time.time()\n",
    "    rbg_emb, cluster_result = process_instance_embedding(instance_embedding.cpu(), binary_img,\n",
    "                                                             distance=1.5, lane_num=4)\n",
    "    clu_end = time.time()\n",
    "    cluster_result = cv2.resize(cluster_result, dsize=(org_shape[1], org_shape[0]), \n",
    "                                interpolation=cv2.INTER_NEAREST)\n",
    "    elements = np.unique(cluster_result)\n",
    "    for line_idx in elements:\n",
    "        if line_idx == 0:\n",
    "            continue\n",
    "        else:\n",
    "            mask = (cluster_result == line_idx)\n",
    "            select_mask = mask[h_samples]\n",
    "            row_result = []\n",
    "            for row in range(len(h_samples)):\n",
    "                col_indexes = np.nonzero(select_mask[row])[0]\n",
    "                if len(col_indexes) == 0:\n",
    "                    row_result.append(-2)\n",
    "                else:\n",
    "                    row_result.append(int(col_indexes.min() + (col_indexes.max()-col_indexes.min())/2))\n",
    "            json_pred[i]['lanes'].append(row_result)\n",
    "            json_pred[i]['run_time'] = time_end-time_start\n",
    "            all_time_forward.append(time_end-time_start)\n",
    "            all_time_clustering.append(clu_end-clu_start)"
   ]
  },
  {
   "cell_type": "code",
   "execution_count": 7,
   "metadata": {},
   "outputs": [
    {
     "name": "stdout",
     "output_type": "stream",
     "text": [
      "The Forward pass time for one image is: 0.0ms\n",
      "The Clustering time for one image is: 0.0ms\n",
      "The total time for one image is: 0.0ms\n",
      "The speed for foreard pass is: inffps\n",
      "The speed for foreard pass is: inffps\n"
     ]
    },
    {
     "name": "stderr",
     "output_type": "stream",
     "text": [
      "/home/sutchu/PycharmProjects/lanenet_pytorch/venv/lib/python3.6/site-packages/ipykernel_launcher.py:8: RuntimeWarning: divide by zero encountered in double_scalars\n",
      "  \n",
      "/home/sutchu/PycharmProjects/lanenet_pytorch/venv/lib/python3.6/site-packages/ipykernel_launcher.py:9: RuntimeWarning: divide by zero encountered in double_scalars\n",
      "  if __name__ == '__main__':\n"
     ]
    }
   ],
   "source": [
    "forward_avg = np.sum(all_time_forward[500:2000])/1500\n",
    "cluster_avg = np.sum(all_time_clustering[500:2000])/1500\n",
    "\n",
    "print('The Forward pass time for one image is: {}ms'.format(forward_avg*1000))\n",
    "print('The Clustering time for one image is: {}ms'.format(cluster_avg*1000))\n",
    "print('The total time for one image is: {}ms'.format((cluster_avg+forward_avg)*1000))\n",
    "\n",
    "print('The speed for foreard pass is: {}fps'.format(1/forward_avg))\n",
    "print('The speed for foreard pass is: {}fps'.format(1/cluster_avg))"
   ]
  },
  {
   "cell_type": "code",
   "execution_count": 8,
   "metadata": {},
   "outputs": [],
   "source": [
    "with open('../TUSIMPLE/pred.json', 'w') as f:\n",
    "    for res in json_pred:\n",
    "        json.dump(res, f)\n",
    "        f.write('\\n')"
   ]
  },
  {
   "cell_type": "markdown",
   "metadata": {},
   "source": [
    "# Evaluation using TUSIMPLE script"
   ]
  },
  {
   "cell_type": "code",
   "execution_count": 59,
   "metadata": {},
   "outputs": [],
   "source": [
    "from utils.lane import LaneEval"
   ]
  },
  {
   "cell_type": "code",
   "execution_count": 30,
   "metadata": {},
   "outputs": [],
   "source": [
    "result = LaneEval.bench_one_submit('../TUSIMPLE/pred.json',\n",
    "                         '../TUSIMPLE/test_set/test_label.json')"
   ]
  },
  {
   "cell_type": "code",
   "execution_count": 31,
   "metadata": {},
   "outputs": [
    {
     "name": "stdout",
     "output_type": "stream",
     "text": [
      "[{\"name\":\"Accuracy\",\"value\":0.9427976190476187,\"order\":\"desc\"},{\"name\":\"FP\",\"value\":0.12833333333333333,\"order\":\"asc\"},{\"name\":\"FN\",\"value\":0.08833333333333333,\"order\":\"asc\"}]\n"
     ]
    }
   ],
   "source": [
    "print(result)"
   ]
  },
  {
   "cell_type": "markdown",
   "metadata": {},
   "source": [
    "# Evaluation for aug result"
   ]
  },
  {
   "cell_type": "code",
   "execution_count": 44,
   "metadata": {},
   "outputs": [
    {
     "name": "stdout",
     "output_type": "stream",
     "text": [
      "success\n"
     ]
    }
   ],
   "source": [
    "model_path = '../TUSIMPLE/Lanenet_output/lanenet_epoch_39_batch_8_AUG.model'\n",
    "device = torch.device('cuda') if torch.cuda.is_available() else torch.device('cpu')\n",
    "LaneNet_model = Lanenet(2, 4)\n",
    "LaneNet_model.load_state_dict(torch.load(model_path, map_location=torch.device('cuda')))\n",
    "LaneNet_model.to(torch.device('cpu'))\n",
    "print('success')"
   ]
  },
  {
   "cell_type": "code",
   "execution_count": 45,
   "metadata": {},
   "outputs": [],
   "source": [
    "pred_json_path = '../TUSIMPLE/test_set/test_tasks_0627.json'\n",
    "json_pred = [json.loads(line) for line in open(pred_json_path).readlines()]"
   ]
  },
  {
   "cell_type": "code",
   "execution_count": 46,
   "metadata": {},
   "outputs": [
    {
     "name": "stderr",
     "output_type": "stream",
     "text": [
      "100%|██████████| 50/50 [00:53<00:00,  1.08s/it]\n"
     ]
    }
   ],
   "source": [
    "all_time_forward = []\n",
    "all_time_clustering = []\n",
    "for i, sample in enumerate(tqdm(json_pred)):\n",
    "    h_samples = sample['h_samples']\n",
    "    lanes = sample['lanes']\n",
    "    run_time = sample['run_time']\n",
    "    raw_file = sample['raw_file']\n",
    "    img_path = ops.join('../TUSIMPLE/test_set', raw_file)\n",
    "    # read the image\n",
    "    gt_img_org = cv2.imread(img_path, cv2.IMREAD_UNCHANGED)\n",
    "    org_shape = gt_img_org.shape\n",
    "    gt_image = cv2.resize(gt_img_org, dsize=(512, 256), interpolation=cv2.INTER_LINEAR)\n",
    "    gt_image = gt_image / 127.5 - 1.0\n",
    "    gt_image = torch.tensor(gt_image, dtype=torch.float)\n",
    "    gt_image = np.transpose(gt_image, (2, 0, 1))\n",
    "    # Go through the network\n",
    "    time_start=time.time()\n",
    "    binary_final_logits, instance_embedding = LaneNet_model(gt_image.unsqueeze(0))\n",
    "    # binary_final_logits = binary_final_logits.cpu()\n",
    "    # instance_embedding = instance_embedding.cpu()\n",
    "    time_end=time.time()\n",
    "    # Get the final embedding image\n",
    "    binary_img = torch.argmax(binary_final_logits, dim=1).squeeze().cpu().numpy()\n",
    "    binary_img[0:50,:] = 0\n",
    "    clu_start = time.time()\n",
    "    rbg_emb, cluster_result = process_instance_embedding(instance_embedding.cpu(), binary_img,\n",
    "                                                             distance=1.5, lane_num=4)\n",
    "    clu_end = time.time()\n",
    "    cluster_result = cv2.resize(cluster_result, dsize=(org_shape[1], org_shape[0]), \n",
    "                                interpolation=cv2.INTER_NEAREST)\n",
    "    elements = np.unique(cluster_result)\n",
    "    for line_idx in elements:\n",
    "        if line_idx == 0:\n",
    "            continue\n",
    "        else:\n",
    "            mask = (cluster_result == line_idx)\n",
    "            select_mask = mask[h_samples]\n",
    "            row_result = []\n",
    "            for row in range(len(h_samples)):\n",
    "                col_indexes = np.nonzero(select_mask[row])[0]\n",
    "                if len(col_indexes) == 0:\n",
    "                    row_result.append(-2)\n",
    "                else:\n",
    "                    row_result.append(int(col_indexes.min() + (col_indexes.max()-col_indexes.min())/2))\n",
    "            json_pred[i]['lanes'].append(row_result)\n",
    "            json_pred[i]['run_time'] = time_end-time_start\n",
    "            all_time_forward.append(time_end-time_start)\n",
    "            all_time_clustering.append(clu_end-clu_start)"
   ]
  },
  {
   "cell_type": "code",
   "execution_count": 47,
   "metadata": {},
   "outputs": [],
   "source": [
    "with open('../TUSIMPLE/pred_aug.json', 'w') as f:\n",
    "    for res in json_pred:\n",
    "        json.dump(res, f)\n",
    "        f.write('\\n')"
   ]
  },
  {
   "cell_type": "code",
   "execution_count": 48,
   "metadata": {},
   "outputs": [],
   "source": [
    "from utils.lane import LaneEval"
   ]
  },
  {
   "cell_type": "code",
   "execution_count": 49,
   "metadata": {},
   "outputs": [],
   "source": [
    "result = LaneEval.bench_one_submit('../TUSIMPLE/pred_aug.json',\n",
    "                         '../TUSIMPLE/test_set/test_label.json')"
   ]
  },
  {
   "cell_type": "code",
   "execution_count": 50,
   "metadata": {},
   "outputs": [
    {
     "name": "stdout",
     "output_type": "stream",
     "text": [
      "[{\"name\":\"Accuracy\",\"value\":0.9372916666666664,\"order\":\"desc\"},{\"name\":\"FP\",\"value\":0.14166666666666666,\"order\":\"asc\"},{\"name\":\"FN\",\"value\":0.10499999999999998,\"order\":\"asc\"}]\n"
     ]
    }
   ],
   "source": [
    "print(result)"
   ]
  },
  {
   "cell_type": "code",
   "execution_count": null,
   "metadata": {},
   "outputs": [],
   "source": []
  },
  {
   "cell_type": "code",
   "execution_count": null,
   "metadata": {},
   "outputs": [],
   "source": []
  }
 ],
 "metadata": {
  "kernelspec": {
   "display_name": "Python 3",
   "language": "python",
   "name": "python3"
  },
  "language_info": {
   "codemirror_mode": {
    "name": "ipython",
    "version": 3
   },
   "file_extension": ".py",
   "mimetype": "text/x-python",
   "name": "python",
   "nbconvert_exporter": "python",
   "pygments_lexer": "ipython3",
   "version": "3.6.9"
  }
 },
 "nbformat": 4,
 "nbformat_minor": 2
}